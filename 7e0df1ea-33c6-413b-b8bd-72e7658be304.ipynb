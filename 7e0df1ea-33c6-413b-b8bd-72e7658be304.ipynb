{
 "cells": [
  {
   "cell_type": "code",
   "execution_count": 1,
   "metadata": {},
   "outputs": [],
   "source": [
    "import pandas as pd\n",
    "from sklearn.model_selection import train_test_split\n",
    "from sklearn.ensemble import RandomForestClassifier\n",
    "from sklearn.metrics import accuracy_score, classification_report\n",
    "import matplotlib.pyplot as plt\n",
    "import seaborn as sns"
   ]
  },
  {
   "cell_type": "code",
   "execution_count": 2,
   "metadata": {},
   "outputs": [],
   "source": [
    "# Membaca dataset\n",
    "data_path = \"/datasets/users_behavior.csv\"\n",
    "data = pd.read_csv(data_path)"
   ]
  },
  {
   "cell_type": "code",
   "execution_count": 3,
   "metadata": {},
   "outputs": [
    {
     "name": "stdout",
     "output_type": "stream",
     "text": [
      "<class 'pandas.core.frame.DataFrame'>\n",
      "RangeIndex: 3214 entries, 0 to 3213\n",
      "Data columns (total 5 columns):\n",
      " #   Column    Non-Null Count  Dtype  \n",
      "---  ------    --------------  -----  \n",
      " 0   calls     3214 non-null   float64\n",
      " 1   minutes   3214 non-null   float64\n",
      " 2   messages  3214 non-null   float64\n",
      " 3   mb_used   3214 non-null   float64\n",
      " 4   is_ultra  3214 non-null   int64  \n",
      "dtypes: float64(4), int64(1)\n",
      "memory usage: 125.7 KB\n"
     ]
    }
   ],
   "source": [
    "data.info()"
   ]
  },
  {
   "cell_type": "markdown",
   "metadata": {},
   "source": [
    "RangeIndex: 3214 entries, 0 to 3213 menunjukkan bahwa dataset memiliki total 3214 baris (entri), diindeks mulai dari 0 hingga 3213.\n",
    "\n",
    "Data columns (total 5 columns): menandakan bahwa dataset memiliki total 5 kolom.\n",
    "\n",
    "Untuk setiap kolom, informasinya terdiri dari tiga bagian: Nama Kolom, Non-Null Count, dan Dtype.\n",
    "calls, minutes, messages, mb_used, is_ultra adalah nama kolom.\n",
    "3214 non-null menunjukkan bahwa semua kolom memiliki 3214 nilai non-null, yang berarti tidak ada nilai yang hilang (missing) dalam dataset.\n",
    "float64(4), int64(1) menunjukkan tipe data kolom, yaitu 4 kolom dengan tipe data float64 dan 1 kolom dengan tipe data int64.\n",
    "\n",
    "memory usage: 125.7 KB menyatakan bahwa dataset ini menggunakan sekitar 125.7 kilobyte dalam memori.\n",
    "\n",
    "Dengan demikian, dataset terdiri dari 3214 baris dan 5 kolom, tanpa nilai yang hilang (non-null) dalam setiap kolomnya. Jenis data kolom mencakup float64 untuk data numerik dan int64 untuk kolom target (is_ultra)."
   ]
  },
  {
   "cell_type": "code",
   "execution_count": 4,
   "metadata": {},
   "outputs": [
    {
     "data": {
      "text/html": [
       "<div>\n",
       "<style scoped>\n",
       "    .dataframe tbody tr th:only-of-type {\n",
       "        vertical-align: middle;\n",
       "    }\n",
       "\n",
       "    .dataframe tbody tr th {\n",
       "        vertical-align: top;\n",
       "    }\n",
       "\n",
       "    .dataframe thead th {\n",
       "        text-align: right;\n",
       "    }\n",
       "</style>\n",
       "<table border=\"1\" class=\"dataframe\">\n",
       "  <thead>\n",
       "    <tr style=\"text-align: right;\">\n",
       "      <th></th>\n",
       "      <th>calls</th>\n",
       "      <th>minutes</th>\n",
       "      <th>messages</th>\n",
       "      <th>mb_used</th>\n",
       "      <th>is_ultra</th>\n",
       "    </tr>\n",
       "  </thead>\n",
       "  <tbody>\n",
       "    <tr>\n",
       "      <th>count</th>\n",
       "      <td>3214.000000</td>\n",
       "      <td>3214.000000</td>\n",
       "      <td>3214.000000</td>\n",
       "      <td>3214.000000</td>\n",
       "      <td>3214.000000</td>\n",
       "    </tr>\n",
       "    <tr>\n",
       "      <th>mean</th>\n",
       "      <td>63.038892</td>\n",
       "      <td>438.208787</td>\n",
       "      <td>38.281269</td>\n",
       "      <td>17207.673836</td>\n",
       "      <td>0.306472</td>\n",
       "    </tr>\n",
       "    <tr>\n",
       "      <th>std</th>\n",
       "      <td>33.236368</td>\n",
       "      <td>234.569872</td>\n",
       "      <td>36.148326</td>\n",
       "      <td>7570.968246</td>\n",
       "      <td>0.461100</td>\n",
       "    </tr>\n",
       "    <tr>\n",
       "      <th>min</th>\n",
       "      <td>0.000000</td>\n",
       "      <td>0.000000</td>\n",
       "      <td>0.000000</td>\n",
       "      <td>0.000000</td>\n",
       "      <td>0.000000</td>\n",
       "    </tr>\n",
       "    <tr>\n",
       "      <th>25%</th>\n",
       "      <td>40.000000</td>\n",
       "      <td>274.575000</td>\n",
       "      <td>9.000000</td>\n",
       "      <td>12491.902500</td>\n",
       "      <td>0.000000</td>\n",
       "    </tr>\n",
       "    <tr>\n",
       "      <th>50%</th>\n",
       "      <td>62.000000</td>\n",
       "      <td>430.600000</td>\n",
       "      <td>30.000000</td>\n",
       "      <td>16943.235000</td>\n",
       "      <td>0.000000</td>\n",
       "    </tr>\n",
       "    <tr>\n",
       "      <th>75%</th>\n",
       "      <td>82.000000</td>\n",
       "      <td>571.927500</td>\n",
       "      <td>57.000000</td>\n",
       "      <td>21424.700000</td>\n",
       "      <td>1.000000</td>\n",
       "    </tr>\n",
       "    <tr>\n",
       "      <th>max</th>\n",
       "      <td>244.000000</td>\n",
       "      <td>1632.060000</td>\n",
       "      <td>224.000000</td>\n",
       "      <td>49745.730000</td>\n",
       "      <td>1.000000</td>\n",
       "    </tr>\n",
       "  </tbody>\n",
       "</table>\n",
       "</div>"
      ],
      "text/plain": [
       "             calls      minutes     messages       mb_used     is_ultra\n",
       "count  3214.000000  3214.000000  3214.000000   3214.000000  3214.000000\n",
       "mean     63.038892   438.208787    38.281269  17207.673836     0.306472\n",
       "std      33.236368   234.569872    36.148326   7570.968246     0.461100\n",
       "min       0.000000     0.000000     0.000000      0.000000     0.000000\n",
       "25%      40.000000   274.575000     9.000000  12491.902500     0.000000\n",
       "50%      62.000000   430.600000    30.000000  16943.235000     0.000000\n",
       "75%      82.000000   571.927500    57.000000  21424.700000     1.000000\n",
       "max     244.000000  1632.060000   224.000000  49745.730000     1.000000"
      ]
     },
     "execution_count": 4,
     "metadata": {},
     "output_type": "execute_result"
    }
   ],
   "source": [
    "data.describe()"
   ]
  },
  {
   "cell_type": "markdown",
   "metadata": {},
   "source": [
    "1. count (Jumlah data):\n",
    "\n",
    "Untuk setiap kolom, kita memiliki 3214 data atau observasi.\n",
    "\n",
    "2. mean (Rata-rata):\n",
    "\n",
    "- calls: Rata-rata jumlah panggilan adalah sekitar 63.04.\n",
    "- minutes: Rata-rata total durasi panggilan dalam menit adalah sekitar 438.21.\n",
    "- messages: Rata-rata jumlah pesan teks adalah sekitar 38.28.\n",
    "- mb_used: Rata-rata traffic penggunaan internet dalam satuan MB adalah sekitar 17207.67.\n",
    "- is_ultra: Rata-rata nilai kolom target (0 untuk Surf, 1 untuk Ultimate) adalah sekitar 0.31.\n",
    "\n",
    "3. std (Standar deviasi):\n",
    "\n",
    "calls, minutes, messages, mb_used: Menunjukkan sejauh mana data tersebar dari rata-rata. Semakin tinggi nilai standar deviasi, semakin besar variasi data.\n",
    "\n",
    "4. min (Nilai minimum):\n",
    "\n",
    "Menunjukkan nilai terkecil dalam setiap kolom.\n",
    "calls dan minutes memiliki nilai minimum 0, mungkin menandakan pengguna yang tidak melakukan panggilan atau penggunaan nol.\n",
    "\n",
    "5. 25%, 50% (Median), 75% (Kuartil):\n",
    "\n",
    "25%, 50%, dan 75% menunjukkan nilai kuartil pertama, median, dan kuartil ketiga.\n",
    "Median (50%) adalah nilai tengah dari data.\n",
    "Kuartil pertama (25%) dan kuartil ketiga (75%) memberikan gambaran tentang sebaran data.\n",
    "\n",
    "6. max (Nilai maksimum):\n",
    "\n",
    "Menunjukkan nilai maksimum dalam setiap kolom.\n",
    "is_ultra memiliki nilai maksimum 1, menandakan pengguna yang menggunakan paket Ultimate."
   ]
  },
  {
   "cell_type": "code",
   "execution_count": 5,
   "metadata": {},
   "outputs": [
    {
     "data": {
      "text/html": [
       "<div>\n",
       "<style scoped>\n",
       "    .dataframe tbody tr th:only-of-type {\n",
       "        vertical-align: middle;\n",
       "    }\n",
       "\n",
       "    .dataframe tbody tr th {\n",
       "        vertical-align: top;\n",
       "    }\n",
       "\n",
       "    .dataframe thead th {\n",
       "        text-align: right;\n",
       "    }\n",
       "</style>\n",
       "<table border=\"1\" class=\"dataframe\">\n",
       "  <thead>\n",
       "    <tr style=\"text-align: right;\">\n",
       "      <th></th>\n",
       "      <th>calls</th>\n",
       "      <th>minutes</th>\n",
       "      <th>messages</th>\n",
       "      <th>mb_used</th>\n",
       "      <th>is_ultra</th>\n",
       "    </tr>\n",
       "  </thead>\n",
       "  <tbody>\n",
       "    <tr>\n",
       "      <th>2276</th>\n",
       "      <td>60.0</td>\n",
       "      <td>403.07</td>\n",
       "      <td>17.0</td>\n",
       "      <td>13519.04</td>\n",
       "      <td>0</td>\n",
       "    </tr>\n",
       "    <tr>\n",
       "      <th>2592</th>\n",
       "      <td>56.0</td>\n",
       "      <td>429.44</td>\n",
       "      <td>17.0</td>\n",
       "      <td>19794.75</td>\n",
       "      <td>0</td>\n",
       "    </tr>\n",
       "    <tr>\n",
       "      <th>2484</th>\n",
       "      <td>54.0</td>\n",
       "      <td>447.86</td>\n",
       "      <td>26.0</td>\n",
       "      <td>15890.65</td>\n",
       "      <td>0</td>\n",
       "    </tr>\n",
       "    <tr>\n",
       "      <th>1099</th>\n",
       "      <td>74.0</td>\n",
       "      <td>491.36</td>\n",
       "      <td>60.0</td>\n",
       "      <td>16944.44</td>\n",
       "      <td>0</td>\n",
       "    </tr>\n",
       "    <tr>\n",
       "      <th>3123</th>\n",
       "      <td>85.0</td>\n",
       "      <td>537.57</td>\n",
       "      <td>0.0</td>\n",
       "      <td>9632.36</td>\n",
       "      <td>0</td>\n",
       "    </tr>\n",
       "    <tr>\n",
       "      <th>316</th>\n",
       "      <td>67.0</td>\n",
       "      <td>502.94</td>\n",
       "      <td>37.0</td>\n",
       "      <td>17033.10</td>\n",
       "      <td>1</td>\n",
       "    </tr>\n",
       "    <tr>\n",
       "      <th>860</th>\n",
       "      <td>72.0</td>\n",
       "      <td>410.23</td>\n",
       "      <td>68.0</td>\n",
       "      <td>16006.55</td>\n",
       "      <td>0</td>\n",
       "    </tr>\n",
       "    <tr>\n",
       "      <th>1874</th>\n",
       "      <td>38.0</td>\n",
       "      <td>265.04</td>\n",
       "      <td>108.0</td>\n",
       "      <td>6033.38</td>\n",
       "      <td>0</td>\n",
       "    </tr>\n",
       "    <tr>\n",
       "      <th>2658</th>\n",
       "      <td>67.0</td>\n",
       "      <td>418.75</td>\n",
       "      <td>136.0</td>\n",
       "      <td>21709.95</td>\n",
       "      <td>1</td>\n",
       "    </tr>\n",
       "    <tr>\n",
       "      <th>856</th>\n",
       "      <td>26.0</td>\n",
       "      <td>198.50</td>\n",
       "      <td>45.0</td>\n",
       "      <td>14556.84</td>\n",
       "      <td>0</td>\n",
       "    </tr>\n",
       "  </tbody>\n",
       "</table>\n",
       "</div>"
      ],
      "text/plain": [
       "      calls  minutes  messages   mb_used  is_ultra\n",
       "2276   60.0   403.07      17.0  13519.04         0\n",
       "2592   56.0   429.44      17.0  19794.75         0\n",
       "2484   54.0   447.86      26.0  15890.65         0\n",
       "1099   74.0   491.36      60.0  16944.44         0\n",
       "3123   85.0   537.57       0.0   9632.36         0\n",
       "316    67.0   502.94      37.0  17033.10         1\n",
       "860    72.0   410.23      68.0  16006.55         0\n",
       "1874   38.0   265.04     108.0   6033.38         0\n",
       "2658   67.0   418.75     136.0  21709.95         1\n",
       "856    26.0   198.50      45.0  14556.84         0"
      ]
     },
     "execution_count": 5,
     "metadata": {},
     "output_type": "execute_result"
    }
   ],
   "source": [
    "data.sample(10)"
   ]
  },
  {
   "cell_type": "code",
   "execution_count": 6,
   "metadata": {},
   "outputs": [],
   "source": [
    "# Pisahkan variabel independen (X) dan variabel dependen/target (y)\n",
    "X = data.drop('is_ultra', axis=1)\n",
    "y = data['is_ultra']"
   ]
  },
  {
   "cell_type": "code",
   "execution_count": 7,
   "metadata": {},
   "outputs": [],
   "source": [
    "# Pisahkan data menjadi training set, validation set, dan test set\n",
    "X_train, X_temp, y_train, y_temp = train_test_split(X, y, test_size=0.3, random_state=42)\n",
    "X_val, X_test, y_val, y_test = train_test_split(X_temp, y_temp, test_size=0.5, random_state=42)"
   ]
  },
  {
   "cell_type": "code",
   "execution_count": 8,
   "metadata": {
    "scrolled": true
   },
   "outputs": [
    {
     "name": "stdout",
     "output_type": "stream",
     "text": [
      "Accuracy on validation set: 0.8278008298755186\n"
     ]
    }
   ],
   "source": [
    "# Inisialisasi model RandomForestClassifier\n",
    "model = RandomForestClassifier(random_state=42)\n",
    "\n",
    "# Melatih model menggunakan training set\n",
    "model.fit(X_train, y_train)\n",
    "\n",
    "# Membuat prediksi menggunakan validation set\n",
    "y_pred = model.predict(X_val)\n",
    "\n",
    "# Evaluasi model\n",
    "accuracy = accuracy_score(y_val, y_pred)\n",
    "print(f\"Accuracy on validation set: {accuracy}\")\n"
   ]
  },
  {
   "cell_type": "markdown",
   "metadata": {},
   "source": [
    "Hasil Accuracy on validation set: 0.8278008298755186 menunjukkan bahwa model yang diinisialisasi menggunakan RandomForestClassifier memberikan tingkat akurasi sekitar 82.78% pada dataset validasi. \n",
    "Berikut adalah penjelasan lebih lanjut:\n",
    "\n",
    "Accuracy (Akurasi): Akurasi adalah metrik evaluasi yang mengukur sejauh mana model dapat memprediksi kelas target dengan benar. Dalam konteks ini, nilai akurasi 0.8278 menunjukkan bahwa sekitar 82.78% dari prediksi pada dataset validasi adalah benar.\n",
    "\n",
    "Validation Set: Dataset validasi digunakan untuk mengukur performa model yang dilatih pada dataset training. Ini membantu memastikan bahwa model tidak hanya mempelajari data training secara khusus dan dapat menggeneralisasi dengan baik pada data baru.\n",
    "\n",
    "RandomForestClassifier: Ini adalah algoritma klasifikasi ensemble yang membangun beberapa pohon keputusan selama pelatihan dan menggabungkan hasil prediksi dari masing-masing pohon untuk meningkatkan akurasi dan kestabilan model.\n",
    "\n",
    "Random State: Parameter random_state=42 digunakan untuk memastikan reproduktibilitas. Ketika nilai random_state tetap, pembagian data dan inisialisasi model akan selalu sama jika kita menjalankan kode ini berkali-kali.\n",
    "\n",
    "Dengan akurasi sekitar 82.78%, model ini sudah memberikan hasil yang baik pada dataset validasi. "
   ]
  },
  {
   "cell_type": "code",
   "execution_count": 9,
   "metadata": {},
   "outputs": [
    {
     "name": "stdout",
     "output_type": "stream",
     "text": [
      "Classification Report:\n",
      "              precision    recall  f1-score   support\n",
      "\n",
      "           0       0.84      0.94      0.89       341\n",
      "           1       0.79      0.56      0.66       141\n",
      "\n",
      "    accuracy                           0.83       482\n",
      "   macro avg       0.81      0.75      0.77       482\n",
      "weighted avg       0.82      0.83      0.82       482\n",
      "\n"
     ]
    }
   ],
   "source": [
    "# Menampilkan classification report\n",
    "print(\"Classification Report:\")\n",
    "print(classification_report(y_val, y_pred))"
   ]
  },
  {
   "cell_type": "markdown",
   "metadata": {},
   "source": [
    "Hasil dari classification_report memberikan informasi yang lebih rinci tentang performa model dalam klasifikasi binary (dalam hal ini, prediksi antara paket \"Surf\" dan \"Ultimate\"). Berikut adalah penjelasan untuk setiap bagian dari classification report:\n",
    "\n",
    "Precision:\n",
    "\n",
    "Precision mengukur sejauh mana prediksi positif model benar. Dalam konteks ini:\n",
    "Precision untuk kelas 0 (Surf): 0.84, atau 84%. Ini berarti 84% dari pengguna yang diprediksi menggunakan paket Surf benar-benar menggunakan paket Surf.\n",
    "Precision untuk kelas 1 (Ultimate): 0.79, atau 79%. Ini berarti 79% dari pengguna yang diprediksi menggunakan paket Ultimate benar-benar menggunakan paket Ultimate.\n",
    "\n",
    "Recall:\n",
    "Recall (sensitivitas) mengukur sejauh mana model dapat mendeteksi semua kasus positif yang sebenarnya. Dalam konteks ini:\n",
    "Recall untuk kelas 0 (Surf): 0.94, atau 94%. Ini berarti model dapat mendeteksi 94% dari semua pengguna yang menggunakan paket Surf.\n",
    "Recall untuk kelas 1 (Ultimate): 0.56, atau 56%. Ini berarti model dapat mendeteksi 56% dari semua pengguna yang menggunakan paket Ultimate.\n",
    "\n",
    "F1-Score:\n",
    "F1-score adalah harmonic mean dari precision dan recall. Ini memberikan keseimbangan antara precision dan recall. Dalam konteks ini:\n",
    "F1-score untuk kelas 0 (Surf): 0.89.\n",
    "F1-score untuk kelas 1 (Ultimate): 0.66.\n",
    "\n",
    "Support:\n",
    "Support adalah jumlah aktual dari setiap kelas dalam dataset validasi.\n",
    "Support untuk kelas 0 (Surf): 341.\n",
    "Support untuk kelas 1 (Ultimate): 141.\n",
    "\n",
    "Accuracy:\n",
    "Akurasi (accuracy) adalah rasio prediksi yang benar secara keseluruhan. Dalam konteks ini, akurasi adalah 0.83, atau 83%.\n",
    "\n",
    "Macro Avg dan Weighted Avg:\n",
    "Macro avg adalah rata-rata dari metrik-metrik di atas tanpa memperhitungkan ketidakseimbangan kelas.\n",
    "Weighted avg memberikan bobot lebih besar untuk kelas dengan jumlah sampel yang lebih besar.\n",
    "Secara keseluruhan, classification report memberikan gambaran yang komprehensif tentang performa model pada masing-masing kelas dan secara agregat."
   ]
  },
  {
   "cell_type": "code",
   "execution_count": 10,
   "metadata": {},
   "outputs": [
    {
     "name": "stdout",
     "output_type": "stream",
     "text": [
      "Accuracy on test set: 0.7784679089026915\n"
     ]
    }
   ],
   "source": [
    "# Membuat prediksi menggunakan test set\n",
    "y_test_pred = model.predict(X_test)\n",
    "\n",
    "# Evaluasi model pada test set\n",
    "test_accuracy = accuracy_score(y_test, y_test_pred)\n",
    "print(f\"Accuracy on test set: {test_accuracy}\")"
   ]
  },
  {
   "cell_type": "markdown",
   "metadata": {},
   "source": [
    "Hasil dari Accuracy on test set: 0.7784679089026915 menunjukkan bahwa model yang telah dilatih memberikan tingkat akurasi sekitar 77.85% pada dataset test. Berikut adalah penjelasan lebih lanjut:\n",
    "\n",
    "Accuracy (Akurasi): Akurasi adalah metrik evaluasi yang mengukur sejauh mana model dapat memprediksi kelas target dengan benar pada dataset test. Dalam hal ini, nilai akurasi sekitar 77.85% menunjukkan bahwa sebagian besar prediksi pada dataset test adalah benar.\n",
    "\n",
    "Test Set: Dataset test digunakan untuk mengevaluasi performa model pada data yang belum pernah dilihat oleh model selama pelatihan atau validasi. Ini memberikan gambaran tentang kemampuan model untuk menggeneralisasi pada data baru.\n",
    "\n",
    "Perbandingan dengan Validation Set:\n",
    "\n",
    "Jika akurasi pada test set lebih rendah daripada pada validation set, ini bisa menunjukkan adanya overfitting. Overfitting terjadi ketika model terlalu \"memoror\" data pelatihan dan tidak dapat menggeneralisasi dengan baik pada data baru. "
   ]
  },
  {
   "cell_type": "code",
   "execution_count": 11,
   "metadata": {},
   "outputs": [
    {
     "name": "stdout",
     "output_type": "stream",
     "text": [
      "Misclassified Samples:\n",
      "      calls  minutes  messages   mb_used  predicted\n",
      "1820   98.0   703.76       0.0  20372.37          0\n",
      "58     77.0   477.54       0.0  19090.74          0\n",
      "2577   15.0   128.91       6.0   2241.43          0\n",
      "2129   59.0   398.07      24.0  22574.39          0\n",
      "48      5.0    49.95      17.0   3370.69          0\n"
     ]
    }
   ],
   "source": [
    "# Menambahkan kolom prediksi ke dataset test\n",
    "X_test_with_pred = X_test.copy()\n",
    "X_test_with_pred['predicted'] = y_test_pred\n",
    "\n",
    "# Memilih contoh yang diprediksi salah\n",
    "misclassified_samples = X_test_with_pred[y_test != y_test_pred]\n",
    "\n",
    "# Menampilkan contoh prediksi yang salah\n",
    "print(\"Misclassified Samples:\")\n",
    "print(misclassified_samples.head())"
   ]
  },
  {
   "cell_type": "markdown",
   "metadata": {},
   "source": [
    "Hasil dari Misclassified Samples menunjukkan beberapa contoh di mana model memberikan prediksi yang salah. Setiap baris dalam output ini mewakili sebuah contoh di dataset test yang diprediksi dengan nilai yang tidak sesuai dengan nilai aktualnya. Mari kita analisis beberapa baris pertama dari hasil tersebut:\n",
    "\n",
    "Pada baris pertama (indeks 1820):\n",
    "- Jumlah panggilan (calls): 98.0\n",
    "- Total durasi panggilan dalam menit (minutes): 703.76\n",
    "- Jumlah pesan teks (messages): 0.0\n",
    "- Traffic penggunaan internet dalam satuan MB (mb_used): 20372.37\n",
    "- Nilai prediksi (predicted): 0 (Surf)\n",
    "\n",
    "Model memprediksi bahwa pengguna ini menggunakan paket \"Surf\" (nilai 0), tetapi kenyataannya, pengguna ini menggunakan paket \"Ultimate\" (nilai aktual 1).\n",
    "\n",
    "Begitu juga dengan baris-baris berikutnya, model cenderung memberikan prediksi kelas 0 (Surf) namun sebenarnya pengguna menggunakan paket \"Ultimate\" (kelas 1).\n",
    "\n",
    "Analisis ini dapat memberikan wawasan tentang kasus-kasus di mana model mungkin memiliki kinerja yang buruk. Melihat karakteristik khusus dari contoh-contoh ini, seperti nilai fitur atau distribusi probabilitas, dapat membantu kita memahami mengapa model memberikan prediksi yang salah. Hal ini dapat menjadi landasan untuk meningkatkan model melalui penyesuaian parameter atau penambahan fitur yang relevan."
   ]
  },
  {
   "cell_type": "markdown",
   "metadata": {},
   "source": [
    "## Kesimpulan :\n",
    "Kesimpulan dari analisis proyek ini dapat dirangkum sebagai berikut:\n",
    "\n",
    "1. Pemahaman Dataset:\n",
    "- Dataset terdiri dari 3214 baris dan 5 kolom, tanpa nilai yang hilang.\n",
    "- Kolom-kolom tersebut mencakup informasi tentang jumlah panggilan, durasi panggilan, jumlah pesan teks, traffic penggunaan internet (dalam MB), dan jenis paket yang digunakan (Ultimate atau Surf).\n",
    "\n",
    "2. Statistik Deskriptif:\n",
    "- Statistik deskriptif memberikan gambaran rinci tentang distribusi nilai dalam setiap kolom.\n",
    "- Rata-rata, standar deviasi, nilai minimum, kuartil, dan nilai maksimum memberikan informasi tentang sebaran data.\n",
    "\n",
    "3. Pembagian Dataset:\n",
    "- Data telah dipisahkan dengan benar menjadi training set, validation set, dan test set.\n",
    "- Pembagian ini penting untuk melatih, memvalidasi, dan menguji model pada dataset yang berbeda untuk memastikan generalisasi yang baik.\n",
    "\n",
    "4. Evaluasi Kualitas Model:\n",
    "- Model menggunakan RandomForestClassifier dengan tingkat akurasi sekitar 82.78% pada dataset validasi.\n",
    "- Hasil dari classification report memberikan informasi lebih lanjut tentang performa model pada setiap kelas.\n",
    "\n",
    "5. Sanity Check:\n",
    "- Analisis contoh-contoh yang diprediksi salah membantu mendeteksi area di mana model mungkin perlu diperbaiki atau ditingkatkan.\n",
    "- Pemeriksaan menggunakan confusion matrix, ROC curve, dan distribusi probabilitas memberikan wawasan tambahan tentang performa model.\n",
    "\n",
    "6. Uji Model pada Test Set:\n",
    "- Model memberikan tingkat akurasi sekitar 77.85% pada dataset test."
   ]
  }
 ],
 "metadata": {
  "ExecuteTimeLog": [
   {
    "duration": 5129,
    "start_time": "2024-05-26T06:59:36.110Z"
   },
   {
    "duration": 14,
    "start_time": "2024-05-26T06:59:42.375Z"
   },
   {
    "duration": 16,
    "start_time": "2024-05-26T06:59:42.582Z"
   },
   {
    "duration": 32,
    "start_time": "2024-05-26T06:59:43.071Z"
   },
   {
    "duration": 16,
    "start_time": "2024-05-26T06:59:43.549Z"
   },
   {
    "duration": 4,
    "start_time": "2024-05-26T06:59:43.840Z"
   },
   {
    "duration": 8,
    "start_time": "2024-05-26T06:59:44.157Z"
   },
   {
    "duration": 624,
    "start_time": "2024-05-26T06:59:44.463Z"
   },
   {
    "duration": 12,
    "start_time": "2024-05-26T06:59:45.090Z"
   },
   {
    "duration": 25,
    "start_time": "2024-05-26T06:59:45.402Z"
   },
   {
    "duration": 12,
    "start_time": "2024-05-26T06:59:45.871Z"
   }
  ],
  "kernelspec": {
   "display_name": "Python 3 (ipykernel)",
   "language": "python",
   "name": "python3"
  },
  "language_info": {
   "codemirror_mode": {
    "name": "ipython",
    "version": 3
   },
   "file_extension": ".py",
   "mimetype": "text/x-python",
   "name": "python",
   "nbconvert_exporter": "python",
   "pygments_lexer": "ipython3",
   "version": "3.9.19"
  },
  "toc": {
   "base_numbering": 1,
   "nav_menu": {},
   "number_sections": true,
   "sideBar": true,
   "skip_h1_title": true,
   "title_cell": "Table of Contents",
   "title_sidebar": "Contents",
   "toc_cell": false,
   "toc_position": {},
   "toc_section_display": true,
   "toc_window_display": false
  }
 },
 "nbformat": 4,
 "nbformat_minor": 2
}
